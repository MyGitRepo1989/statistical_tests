{
 "cells": [
  {
   "cell_type": "code",
   "execution_count": 43,
   "metadata": {},
   "outputs": [],
   "source": [
    "#  d/dx(x**n) = n*x ** (n-1)\n",
    "# https://www.youtube.com/watch?v=5yfh5cf4-0w"
   ]
  },
  {
   "cell_type": "markdown",
   "metadata": {},
   "source": [
    "In mathematics, the derivative of a function of a real variable measures the sensitivity to change of the function value with respect to a change in its argument. Derivatives are a fundamental tool of calculus"
   ]
  },
  {
   "cell_type": "markdown",
   "metadata": {},
   "source": [
    "The second derivative measures the instantaneous rate of change of the first derivative. The sign of the second derivative tells us whether the slope of the tangent line to f is increasing or decreasing. ... In other words, the second derivative tells us the rate of change of the rate of change of the original function."
   ]
  },
  {
   "cell_type": "markdown",
   "metadata": {},
   "source": [
    "# Diff =  difference of function of x  / difference of x"
   ]
  },
  {
   "cell_type": "code",
   "execution_count": 23,
   "metadata": {},
   "outputs": [],
   "source": [
    "import sympy as sp"
   ]
  },
  {
   "cell_type": "code",
   "execution_count": 25,
   "metadata": {},
   "outputs": [],
   "source": [
    "x =sp.Symbol('x')"
   ]
  },
  {
   "cell_type": "code",
   "execution_count": 30,
   "metadata": {},
   "outputs": [
    {
     "data": {
      "text/latex": [
       "$\\displaystyle 14 x$"
      ],
      "text/plain": [
       "14*x"
      ]
     },
     "execution_count": 30,
     "metadata": {},
     "output_type": "execute_result"
    }
   ],
   "source": [
    "#deravative 7xsq\n",
    "sp.diff(7*x**2,x)"
   ]
  },
  {
   "cell_type": "code",
   "execution_count": 1,
   "metadata": {},
   "outputs": [],
   "source": [
    "import scipy as sp"
   ]
  },
  {
   "cell_type": "code",
   "execution_count": 3,
   "metadata": {},
   "outputs": [],
   "source": [
    "import numpy as np"
   ]
  },
  {
   "cell_type": "code",
   "execution_count": 10,
   "metadata": {},
   "outputs": [],
   "source": [
    "import matplotlib.pyplot as plt"
   ]
  },
  {
   "cell_type": "code",
   "execution_count": 17,
   "metadata": {},
   "outputs": [],
   "source": [
    "from scipy.misc import derivative"
   ]
  },
  {
   "cell_type": "code",
   "execution_count": 33,
   "metadata": {},
   "outputs": [
    {
     "data": {
      "text/plain": [
       "array([-3.        , -2.79310345, -2.5862069 , -2.37931034, -2.17241379,\n",
       "       -1.96551724, -1.75862069, -1.55172414, -1.34482759, -1.13793103,\n",
       "       -0.93103448, -0.72413793, -0.51724138, -0.31034483, -0.10344828,\n",
       "        0.10344828,  0.31034483,  0.51724138,  0.72413793,  0.93103448,\n",
       "        1.13793103,  1.34482759,  1.55172414,  1.75862069,  1.96551724,\n",
       "        2.17241379,  2.37931034,  2.5862069 ,  2.79310345,  3.        ])"
      ]
     },
     "execution_count": 33,
     "metadata": {},
     "output_type": "execute_result"
    }
   ],
   "source": [
    "x = np.linspace(-3,3,30)\n",
    "x"
   ]
  },
  {
   "cell_type": "code",
   "execution_count": 42,
   "metadata": {},
   "outputs": [
    {
     "name": "stderr",
     "output_type": "stream",
     "text": [
      "<ipython-input-42-5c995c538199>:4: RuntimeWarning: invalid value encountered in power\n",
      "  plt.plot(x**1.5)\n"
     ]
    },
    {
     "data": {
      "image/png": "[encoded data removed]",
      "text/plain": [
       "<Figure size 432x288 with 1 Axes>"
      ]
     },
     "metadata": {
      "needs_background": "light"
     },
     "output_type": "display_data"
    }
   ],
   "source": [
    "plt.plot(x**2)\n",
    "plt.plot(x**3)\n",
    "plt.plot(x**4)\n",
    "plt.plot(x**1.5)\n",
    "plt.title(\"SQ function\")\n",
    "\n",
    "plt.xlabel(\"X Axis\")\n",
    "plt.ylabel(\"Y Axis\")\n",
    "plt.grid()\n",
    "plt.show()"
   ]
  },
  {
   "cell_type": "code",
   "execution_count": 50,
   "metadata": {},
   "outputs": [],
   "source": [
    "import pandas as pd"
   ]
  },
  {
   "cell_type": "code",
   "execution_count": 34,
   "metadata": {},
   "outputs": [],
   "source": [
    "def f(x):\n",
    "    return x**2"
   ]
  },
  {
   "cell_type": "code",
   "execution_count": 49,
   "metadata": {},
   "outputs": [],
   "source": [
    "d =derivative(f,x)"
   ]
  },
  {
   "cell_type": "code",
   "execution_count": 143,
   "metadata": {},
   "outputs": [
    {
     "data": {
      "text/plain": [
       "0          NaN\n",
       "1          NaN\n",
       "2    -6.000000\n",
       "3    -5.586207\n",
       "4    -5.172414\n",
       "5    -4.758621\n",
       "6    -4.344828\n",
       "7    -3.931034\n",
       "8    -3.517241\n",
       "9    -3.103448\n",
       "10   -2.689655\n",
       "11   -2.275862\n",
       "12   -1.862069\n",
       "13   -1.448276\n",
       "14   -1.034483\n",
       "15   -0.620690\n",
       "16   -0.206897\n",
       "17    0.206897\n",
       "18    0.620690\n",
       "19    1.034483\n",
       "20    1.448276\n",
       "21    1.862069\n",
       "22    2.275862\n",
       "23    2.689655\n",
       "24    3.103448\n",
       "25    3.517241\n",
       "26    3.931034\n",
       "27    4.344828\n",
       "28    4.758621\n",
       "29    5.172414\n",
       "Name: derivative, dtype: float64"
      ]
     },
     "execution_count": 143,
     "metadata": {},
     "output_type": "execute_result"
    }
   ],
   "source": [
    "df['derivative'].shift(periods=2)"
   ]
  },
  {
   "cell_type": "code",
   "execution_count": 238,
   "metadata": {},
   "outputs": [],
   "source": [
    "#https://numpy.org/doc/stable/reference/generated/numpy.gradient.html"
   ]
  },
  {
   "cell_type": "code",
   "execution_count": 235,
   "metadata": {},
   "outputs": [
    {
     "data": {
      "text/plain": [
       "array([0.20689655, 0.20689655, 0.20689655, 0.20689655, 0.20689655,\n",
       "       0.20689655, 0.20689655, 0.20689655, 0.20689655, 0.20689655,\n",
       "       0.20689655, 0.20689655, 0.20689655, 0.20689655, 0.20689655,\n",
       "       0.20689655, 0.20689655, 0.20689655, 0.20689655, 0.20689655,\n",
       "       0.20689655, 0.20689655, 0.20689655, 0.20689655, 0.20689655,\n",
       "       0.20689655, 0.20689655, 0.20689655, 0.20689655, 0.20689655])"
      ]
     },
     "execution_count": 235,
     "metadata": {},
     "output_type": "execute_result"
    }
   ],
   "source": [
    "g=np.gradient(x)\n",
    "g"
   ]
  },
  {
   "cell_type": "code",
   "execution_count": 237,
   "metadata": {},
   "outputs": [
    {
     "data": {
      "text/html": [
       "<div>\n",
       "<style scoped>\n",
       "    .dataframe tbody tr th:only-of-type {\n",
       "        vertical-align: middle;\n",
       "    }\n",
       "\n",
       "    .dataframe tbody tr th {\n",
       "        vertical-align: top;\n",
       "    }\n",
       "\n",
       "    .dataframe thead th {\n",
       "        text-align: right;\n",
       "    }\n",
       "</style>\n",
       "<table border=\"1\" class=\"dataframe\">\n",
       "  <thead>\n",
       "    <tr style=\"text-align: right;\">\n",
       "      <th></th>\n",
       "      <th>X_value</th>\n",
       "      <th>derivative</th>\n",
       "      <th>gradient</th>\n",
       "    </tr>\n",
       "  </thead>\n",
       "  <tbody>\n",
       "    <tr>\n",
       "      <th>0</th>\n",
       "      <td>-3.000000</td>\n",
       "      <td>-6.000000</td>\n",
       "      <td>0.206897</td>\n",
       "    </tr>\n",
       "    <tr>\n",
       "      <th>1</th>\n",
       "      <td>-2.793103</td>\n",
       "      <td>-5.586207</td>\n",
       "      <td>0.206897</td>\n",
       "    </tr>\n",
       "    <tr>\n",
       "      <th>2</th>\n",
       "      <td>-2.586207</td>\n",
       "      <td>-5.172414</td>\n",
       "      <td>0.206897</td>\n",
       "    </tr>\n",
       "    <tr>\n",
       "      <th>3</th>\n",
       "      <td>-2.379310</td>\n",
       "      <td>-4.758621</td>\n",
       "      <td>0.206897</td>\n",
       "    </tr>\n",
       "    <tr>\n",
       "      <th>4</th>\n",
       "      <td>-2.172414</td>\n",
       "      <td>-4.344828</td>\n",
       "      <td>0.206897</td>\n",
       "    </tr>\n",
       "    <tr>\n",
       "      <th>5</th>\n",
       "      <td>-1.965517</td>\n",
       "      <td>-3.931034</td>\n",
       "      <td>0.206897</td>\n",
       "    </tr>\n",
       "    <tr>\n",
       "      <th>6</th>\n",
       "      <td>-1.758621</td>\n",
       "      <td>-3.517241</td>\n",
       "      <td>0.206897</td>\n",
       "    </tr>\n",
       "    <tr>\n",
       "      <th>7</th>\n",
       "      <td>-1.551724</td>\n",
       "      <td>-3.103448</td>\n",
       "      <td>0.206897</td>\n",
       "    </tr>\n",
       "    <tr>\n",
       "      <th>8</th>\n",
       "      <td>-1.344828</td>\n",
       "      <td>-2.689655</td>\n",
       "      <td>0.206897</td>\n",
       "    </tr>\n",
       "    <tr>\n",
       "      <th>9</th>\n",
       "      <td>-1.137931</td>\n",
       "      <td>-2.275862</td>\n",
       "      <td>0.206897</td>\n",
       "    </tr>\n",
       "    <tr>\n",
       "      <th>10</th>\n",
       "      <td>-0.931034</td>\n",
       "      <td>-1.862069</td>\n",
       "      <td>0.206897</td>\n",
       "    </tr>\n",
       "    <tr>\n",
       "      <th>11</th>\n",
       "      <td>-0.724138</td>\n",
       "      <td>-1.448276</td>\n",
       "      <td>0.206897</td>\n",
       "    </tr>\n",
       "    <tr>\n",
       "      <th>12</th>\n",
       "      <td>-0.517241</td>\n",
       "      <td>-1.034483</td>\n",
       "      <td>0.206897</td>\n",
       "    </tr>\n",
       "    <tr>\n",
       "      <th>13</th>\n",
       "      <td>-0.310345</td>\n",
       "      <td>-0.620690</td>\n",
       "      <td>0.206897</td>\n",
       "    </tr>\n",
       "    <tr>\n",
       "      <th>14</th>\n",
       "      <td>-0.103448</td>\n",
       "      <td>-0.206897</td>\n",
       "      <td>0.206897</td>\n",
       "    </tr>\n",
       "    <tr>\n",
       "      <th>15</th>\n",
       "      <td>0.103448</td>\n",
       "      <td>0.206897</td>\n",
       "      <td>0.206897</td>\n",
       "    </tr>\n",
       "    <tr>\n",
       "      <th>16</th>\n",
       "      <td>0.310345</td>\n",
       "      <td>0.620690</td>\n",
       "      <td>0.206897</td>\n",
       "    </tr>\n",
       "    <tr>\n",
       "      <th>17</th>\n",
       "      <td>0.517241</td>\n",
       "      <td>1.034483</td>\n",
       "      <td>0.206897</td>\n",
       "    </tr>\n",
       "    <tr>\n",
       "      <th>18</th>\n",
       "      <td>0.724138</td>\n",
       "      <td>1.448276</td>\n",
       "      <td>0.206897</td>\n",
       "    </tr>\n",
       "    <tr>\n",
       "      <th>19</th>\n",
       "      <td>0.931034</td>\n",
       "      <td>1.862069</td>\n",
       "      <td>0.206897</td>\n",
       "    </tr>\n",
       "    <tr>\n",
       "      <th>20</th>\n",
       "      <td>1.137931</td>\n",
       "      <td>2.275862</td>\n",
       "      <td>0.206897</td>\n",
       "    </tr>\n",
       "    <tr>\n",
       "      <th>21</th>\n",
       "      <td>1.344828</td>\n",
       "      <td>2.689655</td>\n",
       "      <td>0.206897</td>\n",
       "    </tr>\n",
       "    <tr>\n",
       "      <th>22</th>\n",
       "      <td>1.551724</td>\n",
       "      <td>3.103448</td>\n",
       "      <td>0.206897</td>\n",
       "    </tr>\n",
       "    <tr>\n",
       "      <th>23</th>\n",
       "      <td>1.758621</td>\n",
       "      <td>3.517241</td>\n",
       "      <td>0.206897</td>\n",
       "    </tr>\n",
       "    <tr>\n",
       "      <th>24</th>\n",
       "      <td>1.965517</td>\n",
       "      <td>3.931034</td>\n",
       "      <td>0.206897</td>\n",
       "    </tr>\n",
       "    <tr>\n",
       "      <th>25</th>\n",
       "      <td>2.172414</td>\n",
       "      <td>4.344828</td>\n",
       "      <td>0.206897</td>\n",
       "    </tr>\n",
       "    <tr>\n",
       "      <th>26</th>\n",
       "      <td>2.379310</td>\n",
       "      <td>4.758621</td>\n",
       "      <td>0.206897</td>\n",
       "    </tr>\n",
       "    <tr>\n",
       "      <th>27</th>\n",
       "      <td>2.586207</td>\n",
       "      <td>5.172414</td>\n",
       "      <td>0.206897</td>\n",
       "    </tr>\n",
       "    <tr>\n",
       "      <th>28</th>\n",
       "      <td>2.793103</td>\n",
       "      <td>5.586207</td>\n",
       "      <td>0.206897</td>\n",
       "    </tr>\n",
       "    <tr>\n",
       "      <th>29</th>\n",
       "      <td>3.000000</td>\n",
       "      <td>6.000000</td>\n",
       "      <td>0.206897</td>\n",
       "    </tr>\n",
       "  </tbody>\n",
       "</table>\n",
       "</div>"
      ],
      "text/plain": [
       "     X_value  derivative  gradient\n",
       "0  -3.000000   -6.000000  0.206897\n",
       "1  -2.793103   -5.586207  0.206897\n",
       "2  -2.586207   -5.172414  0.206897\n",
       "3  -2.379310   -4.758621  0.206897\n",
       "4  -2.172414   -4.344828  0.206897\n",
       "5  -1.965517   -3.931034  0.206897\n",
       "6  -1.758621   -3.517241  0.206897\n",
       "7  -1.551724   -3.103448  0.206897\n",
       "8  -1.344828   -2.689655  0.206897\n",
       "9  -1.137931   -2.275862  0.206897\n",
       "10 -0.931034   -1.862069  0.206897\n",
       "11 -0.724138   -1.448276  0.206897\n",
       "12 -0.517241   -1.034483  0.206897\n",
       "13 -0.310345   -0.620690  0.206897\n",
       "14 -0.103448   -0.206897  0.206897\n",
       "15  0.103448    0.206897  0.206897\n",
       "16  0.310345    0.620690  0.206897\n",
       "17  0.517241    1.034483  0.206897\n",
       "18  0.724138    1.448276  0.206897\n",
       "19  0.931034    1.862069  0.206897\n",
       "20  1.137931    2.275862  0.206897\n",
       "21  1.344828    2.689655  0.206897\n",
       "22  1.551724    3.103448  0.206897\n",
       "23  1.758621    3.517241  0.206897\n",
       "24  1.965517    3.931034  0.206897\n",
       "25  2.172414    4.344828  0.206897\n",
       "26  2.379310    4.758621  0.206897\n",
       "27  2.586207    5.172414  0.206897\n",
       "28  2.793103    5.586207  0.206897\n",
       "29  3.000000    6.000000  0.206897"
      ]
     },
     "execution_count": 237,
     "metadata": {},
     "output_type": "execute_result"
    }
   ],
   "source": [
    "xs=pd.Series(x)\n",
    "ds= pd.Series(d)\n",
    "dg=pd.Series(g)\n",
    "df= pd.concat([xs,ds,dg],axis=1)\n",
    "df.columns=['X_value','derivative','gradient']\n",
    "#df['rate_change']=df['derivative']-df['derivative'].shift(periods=2)\n",
    "df"
   ]
  },
  {
   "cell_type": "code",
   "execution_count": 151,
   "metadata": {},
   "outputs": [
    {
     "data": {
      "text/html": [
       "<div>\n",
       "<style scoped>\n",
       "    .dataframe tbody tr th:only-of-type {\n",
       "        vertical-align: middle;\n",
       "    }\n",
       "\n",
       "    .dataframe tbody tr th {\n",
       "        vertical-align: top;\n",
       "    }\n",
       "\n",
       "    .dataframe thead th {\n",
       "        text-align: right;\n",
       "    }\n",
       "</style>\n",
       "<table border=\"1\" class=\"dataframe\">\n",
       "  <thead>\n",
       "    <tr style=\"text-align: right;\">\n",
       "      <th></th>\n",
       "      <th>X_value</th>\n",
       "      <th>derivative</th>\n",
       "    </tr>\n",
       "  </thead>\n",
       "  <tbody>\n",
       "    <tr>\n",
       "      <th>count</th>\n",
       "      <td>3.000000e+01</td>\n",
       "      <td>3.000000e+01</td>\n",
       "    </tr>\n",
       "    <tr>\n",
       "      <th>mean</th>\n",
       "      <td>8.881784e-17</td>\n",
       "      <td>1.776357e-16</td>\n",
       "    </tr>\n",
       "    <tr>\n",
       "      <th>std</th>\n",
       "      <td>1.821395e+00</td>\n",
       "      <td>3.642790e+00</td>\n",
       "    </tr>\n",
       "    <tr>\n",
       "      <th>min</th>\n",
       "      <td>-3.000000e+00</td>\n",
       "      <td>-6.000000e+00</td>\n",
       "    </tr>\n",
       "    <tr>\n",
       "      <th>25%</th>\n",
       "      <td>-1.500000e+00</td>\n",
       "      <td>-3.000000e+00</td>\n",
       "    </tr>\n",
       "    <tr>\n",
       "      <th>50%</th>\n",
       "      <td>0.000000e+00</td>\n",
       "      <td>0.000000e+00</td>\n",
       "    </tr>\n",
       "    <tr>\n",
       "      <th>75%</th>\n",
       "      <td>1.500000e+00</td>\n",
       "      <td>3.000000e+00</td>\n",
       "    </tr>\n",
       "    <tr>\n",
       "      <th>max</th>\n",
       "      <td>3.000000e+00</td>\n",
       "      <td>6.000000e+00</td>\n",
       "    </tr>\n",
       "  </tbody>\n",
       "</table>\n",
       "</div>"
      ],
      "text/plain": [
       "            X_value    derivative\n",
       "count  3.000000e+01  3.000000e+01\n",
       "mean   8.881784e-17  1.776357e-16\n",
       "std    1.821395e+00  3.642790e+00\n",
       "min   -3.000000e+00 -6.000000e+00\n",
       "25%   -1.500000e+00 -3.000000e+00\n",
       "50%    0.000000e+00  0.000000e+00\n",
       "75%    1.500000e+00  3.000000e+00\n",
       "max    3.000000e+00  6.000000e+00"
      ]
     },
     "execution_count": 151,
     "metadata": {},
     "output_type": "execute_result"
    }
   ],
   "source": [
    "df.describe()"
   ]
  },
  {
   "cell_type": "code",
   "execution_count": 175,
   "metadata": {},
   "outputs": [
    {
     "data": {
      "image/png": "[encoded data removed]",
      "text/plain": [
       "<Figure size 600x400 with 1 Axes>"
      ]
     },
     "metadata": {
      "needs_background": "light"
     },
     "output_type": "display_data"
    }
   ],
   "source": [
    "plt.figure(1,dpi=100)\n",
    "plt.plot(x**2)\n",
    "plt.plot(derivative(f,x))\n",
    "#plt.plot(df['difference'])\n",
    "         \n",
    "plt.title(\"function and derivative\")\n",
    "plt.xlabel(\"X Axis\")\n",
    "plt.ylabel(\"Y Axis\")\n",
    "plt.grid()\n",
    "plt.show()"
   ]
  },
  {
   "cell_type": "code",
   "execution_count": 177,
   "metadata": {},
   "outputs": [
    {
     "data": {
      "image/png": "[encoded data removed]",
      "text/plain": [
       "<Figure size 600x400 with 1 Axes>"
      ]
     },
     "metadata": {
      "needs_background": "light"
     },
     "output_type": "display_data"
    }
   ],
   "source": [
    "plt.figure(1,dpi=100)\n",
    "\n",
    "plt.plot(x**2)\n",
    "plt.plot(derivative(f,x[:15]),color='r')\n",
    "#plt.plot(df['difference'])\n",
    "         \n",
    "plt.title(\"function and derivative when X, Y  decreasing <0\")\n",
    "plt.xlabel(\"X Axis\")\n",
    "plt.ylabel(\"Y Axis\")\n",
    "plt.grid()\n",
    "plt.show()\n"
   ]
  },
  {
   "cell_type": "markdown",
   "metadata": {},
   "source": [
    "# Differential function and 2nd derivative"
   ]
  },
  {
   "cell_type": "markdown",
   "metadata": {},
   "source": [
    "# Diff =  difference of function of x  / difference of x"
   ]
  },
  {
   "cell_type": "code",
   "execution_count": 171,
   "metadata": {},
   "outputs": [],
   "source": [
    "def f2(x,A,B):\n",
    "    return A*x**2 + B*x\n",
    "\n",
    "#polinomial Ax**2 + Bx"
   ]
  },
  {
   "cell_type": "code",
   "execution_count": 216,
   "metadata": {},
   "outputs": [],
   "source": [
    "xlist = np.linspace(0,10,10)\n",
    "ylist = f2(xlist,2,1.4)\n"
   ]
  },
  {
   "cell_type": "code",
   "execution_count": 217,
   "metadata": {},
   "outputs": [],
   "source": [
    "#derivative = rise / run  = diff y / diff x"
   ]
  },
  {
   "cell_type": "code",
   "execution_count": 218,
   "metadata": {},
   "outputs": [
    {
     "data": {
      "image/png": "[encoded data removed]",
      "text/plain": [
       "<Figure size 420x280 with 1 Axes>"
      ]
     },
     "metadata": {
      "needs_background": "light"
     },
     "output_type": "display_data"
    }
   ],
   "source": [
    "plt.figure(1,dpi=70)\n",
    "plt.plot(ylist,'x' ,c='r')\n",
    "plt.plot(ylist)\n",
    "\n",
    "#derivative = rise / run  = diff y / diff x\n",
    "plt.plot(np.diff(ylist)/np.diff(xlist),'x',c='g')\n",
    "\n",
    "plt.title(\"function \")\n",
    "plt.xlabel(\"X Axis\")\n",
    "plt.ylabel(\"Y Axis\")\n",
    "plt.grid()\n",
    "plt.show()\n"
   ]
  },
  {
   "cell_type": "code",
   "execution_count": 196,
   "metadata": {},
   "outputs": [],
   "source": [
    "# differential function  = diff between 2 points"
   ]
  },
  {
   "cell_type": "code",
   "execution_count": 209,
   "metadata": {},
   "outputs": [],
   "source": [
    "##derivative = rise / run  = diff y / diff x"
   ]
  },
  {
   "cell_type": "code",
   "execution_count": 228,
   "metadata": {},
   "outputs": [],
   "source": [
    "#1st deravitve in orange \n",
    "#2nd derivative in green o"
   ]
  },
  {
   "cell_type": "code",
   "execution_count": 232,
   "metadata": {},
   "outputs": [
    {
     "data": {
      "image/png": "[encoded data removed]",
      "text/plain": [
       "<Figure size 432x288 with 1 Axes>"
      ]
     },
     "metadata": {
      "needs_background": "light"
     },
     "output_type": "display_data"
    }
   ],
   "source": [
    "plt.plot(ylist)\n",
    "plt.plot(np.diff(ylist)/np.diff(xlist),'x')\n",
    "#2nd is of change of 1st derivative / function\n",
    "plt.plot(np.diff(ylist)/np.diff(xlist) /np.diff(ylist) ,'o')\n",
    "plt.grid()"
   ]
  },
  {
   "cell_type": "code",
   "execution_count": null,
   "metadata": {},
   "outputs": [],
   "source": []
  },
  {
   "cell_type": "markdown",
   "metadata": {},
   "source": [
    "# real Covid data"
   ]
  },
  {
   "cell_type": "code",
   "execution_count": 252,
   "metadata": {},
   "outputs": [],
   "source": [
    "# GOOD REFERENCE  https://www.youtube.com/watch?v=DeeoiE22bZ8"
   ]
  },
  {
   "cell_type": "code",
   "execution_count": 239,
   "metadata": {},
   "outputs": [],
   "source": [
    "covid=pd.read_csv('https://raw.githubusercontent.com/nytimes/covid-19-data/master/rolling-averages/us.csv')"
   ]
  },
  {
   "cell_type": "code",
   "execution_count": 244,
   "metadata": {},
   "outputs": [
    {
     "data": {
      "text/html": [
       "<div>\n",
       "<style scoped>\n",
       "    .dataframe tbody tr th:only-of-type {\n",
       "        vertical-align: middle;\n",
       "    }\n",
       "\n",
       "    .dataframe tbody tr th {\n",
       "        vertical-align: top;\n",
       "    }\n",
       "\n",
       "    .dataframe thead th {\n",
       "        text-align: right;\n",
       "    }\n",
       "</style>\n",
       "<table border=\"1\" class=\"dataframe\">\n",
       "  <thead>\n",
       "    <tr style=\"text-align: right;\">\n",
       "      <th></th>\n",
       "      <th>date</th>\n",
       "      <th>geoid</th>\n",
       "      <th>cases</th>\n",
       "      <th>cases_avg</th>\n",
       "      <th>cases_avg_per_100k</th>\n",
       "      <th>deaths</th>\n",
       "      <th>deaths_avg</th>\n",
       "      <th>deaths_avg_per_100k</th>\n",
       "    </tr>\n",
       "  </thead>\n",
       "  <tbody>\n",
       "    <tr>\n",
       "      <th>0</th>\n",
       "      <td>2020-01-21</td>\n",
       "      <td>USA</td>\n",
       "      <td>1</td>\n",
       "      <td>0.14</td>\n",
       "      <td>0.0</td>\n",
       "      <td>0</td>\n",
       "      <td>0.0</td>\n",
       "      <td>0.0</td>\n",
       "    </tr>\n",
       "    <tr>\n",
       "      <th>1</th>\n",
       "      <td>2020-01-22</td>\n",
       "      <td>USA</td>\n",
       "      <td>0</td>\n",
       "      <td>0.14</td>\n",
       "      <td>0.0</td>\n",
       "      <td>0</td>\n",
       "      <td>0.0</td>\n",
       "      <td>0.0</td>\n",
       "    </tr>\n",
       "    <tr>\n",
       "      <th>2</th>\n",
       "      <td>2020-01-23</td>\n",
       "      <td>USA</td>\n",
       "      <td>0</td>\n",
       "      <td>0.14</td>\n",
       "      <td>0.0</td>\n",
       "      <td>0</td>\n",
       "      <td>0.0</td>\n",
       "      <td>0.0</td>\n",
       "    </tr>\n",
       "  </tbody>\n",
       "</table>\n",
       "</div>"
      ],
      "text/plain": [
       "         date geoid  cases  cases_avg  cases_avg_per_100k  deaths  deaths_avg  \\\n",
       "0  2020-01-21   USA      1       0.14                 0.0       0         0.0   \n",
       "1  2020-01-22   USA      0       0.14                 0.0       0         0.0   \n",
       "2  2020-01-23   USA      0       0.14                 0.0       0         0.0   \n",
       "\n",
       "   deaths_avg_per_100k  \n",
       "0                  0.0  \n",
       "1                  0.0  \n",
       "2                  0.0  "
      ]
     },
     "execution_count": 244,
     "metadata": {},
     "output_type": "execute_result"
    }
   ],
   "source": [
    "covid.head(3)"
   ]
  },
  {
   "cell_type": "code",
   "execution_count": 273,
   "metadata": {},
   "outputs": [
    {
     "data": {
      "text/plain": [
       "0           1\n",
       "1           0\n",
       "2           0\n",
       "3           1\n",
       "4           1\n",
       "        ...  \n",
       "594     76976\n",
       "595    301138\n",
       "596    184189\n",
       "597    170460\n",
       "598    176427\n",
       "Name: cases, Length: 599, dtype: int64"
      ]
     },
     "execution_count": 273,
     "metadata": {},
     "output_type": "execute_result"
    }
   ],
   "source": [
    "c=covid['cases']\n",
    "c"
   ]
  },
  {
   "cell_type": "code",
   "execution_count": 295,
   "metadata": {},
   "outputs": [
    {
     "data": {
      "text/plain": [
       "55240"
      ]
     },
     "execution_count": 295,
     "metadata": {},
     "output_type": "execute_result"
    }
   ],
   "source": [
    "c[200]"
   ]
  },
  {
   "cell_type": "code",
   "execution_count": 296,
   "metadata": {},
   "outputs": [
    {
     "data": {
      "text/plain": [
       "-6338.5"
      ]
     },
     "execution_count": 296,
     "metadata": {},
     "output_type": "execute_result"
    }
   ],
   "source": [
    "g[200]"
   ]
  },
  {
   "cell_type": "code",
   "execution_count": 298,
   "metadata": {},
   "outputs": [
    {
     "data": {
      "text/plain": [
       "-11.474475018102824"
      ]
     },
     "execution_count": 298,
     "metadata": {},
     "output_type": "execute_result"
    }
   ],
   "source": [
    "(-6338.5/55240 )*100"
   ]
  },
  {
   "cell_type": "code",
   "execution_count": 288,
   "metadata": {},
   "outputs": [
    {
     "data": {
      "text/plain": [
       "array([-1.000000e+00, -5.000000e-01,  5.000000e-01,  5.000000e-01,\n",
       "        5.000000e-01, -5.000000e-01, -1.000000e+00,  0.000000e+00,\n",
       "        5.000000e-01,  5.000000e-01,  0.000000e+00,  1.000000e+00,\n",
       "       -5.000000e-01, -1.500000e+00,  5.000000e-01,  0.000000e+00,\n",
       "       -5.000000e-01,  0.000000e+00,  0.000000e+00,  5.000000e-01,\n",
       "        0.000000e+00,  0.000000e+00,  5.000000e-01, -5.000000e-01,\n",
       "       -5.000000e-01,  0.000000e+00,  5.000000e+00,  0.000000e+00,\n",
       "       -5.000000e+00,  1.000000e+00,  1.500000e+00, -1.000000e+00,\n",
       "       -1.500000e+00,  6.500000e+00,  1.000000e+00,  1.000000e+00,\n",
       "       -1.000000e+00, -5.000000e+00,  2.500000e+00,  6.500000e+00,\n",
       "        5.500000e+00,  1.500000e+00,  1.000000e+01,  2.300000e+01,\n",
       "        2.350000e+01,  2.500000e+01,  1.800000e+01,  4.200000e+01,\n",
       "        7.550000e+01,  2.200000e+01,  6.750000e+01,  1.555000e+02,\n",
       "        1.345000e+02,  7.300000e+01,  1.165000e+02,  3.485000e+02,\n",
       "        7.685000e+02,  1.322000e+03,  1.587500e+03,  1.236500e+03,\n",
       "        1.463000e+03,  1.958000e+03,  9.440000e+02,  2.101000e+03,\n",
       "        3.282500e+03,  1.348000e+03,  2.034000e+03,  5.950000e+02,\n",
       "        2.015000e+02,  2.993000e+03,  2.730500e+03,  2.605500e+03,\n",
       "        2.694000e+03,  2.691000e+03, -3.351000e+03, -2.091500e+03,\n",
       "        2.360500e+03,  4.520000e+02,  2.181000e+03,  8.265000e+02,\n",
       "       -1.489500e+03, -3.165000e+03, -2.975500e+03, -2.260000e+02,\n",
       "        2.132000e+03,  2.461000e+03,  7.380000e+02, -1.607500e+03,\n",
       "       -3.087500e+03, -5.015000e+02,  9.000000e+01,  7.180000e+02,\n",
       "        4.131000e+03,  3.955000e+03,  3.160000e+02, -5.003000e+03,\n",
       "       -5.605500e+03, -1.042000e+03,  1.679000e+03,  2.853000e+03,\n",
       "        3.707500e+03, -4.415000e+02, -3.915000e+03, -3.756000e+03,\n",
       "       -1.215500e+03,  1.272000e+03,  2.384500e+03,  1.571000e+03,\n",
       "       -1.805000e+03, -3.665500e+03, -3.623500e+03,  9.915000e+02,\n",
       "        1.762000e+03,  2.331000e+03,  2.546000e+03, -1.651500e+03,\n",
       "       -3.611500e+03, -9.160000e+02,  9.815000e+02,  6.215000e+02,\n",
       "        2.378000e+03,  3.645000e+02, -1.732500e+03, -1.884000e+03,\n",
       "       -1.584000e+03, -5.675000e+02, -1.780000e+02,  1.808000e+03,\n",
       "        2.902000e+03,  4.425000e+02, -1.957000e+03, -7.500000e+02,\n",
       "        7.850000e+01, -9.550000e+02,  4.125000e+02,  4.361000e+03,\n",
       "        4.500000e+02, -5.046500e+03, -2.154500e+03,  9.450000e+01,\n",
       "        2.322500e+03,  2.198500e+03,  1.320500e+03,  1.066000e+03,\n",
       "       -3.181500e+03, -2.608500e+03,  2.877500e+03,  2.769000e+03,\n",
       "        1.587000e+03,  2.590500e+03,  1.983000e+03, -2.228500e+03,\n",
       "       -7.795000e+02,  4.340500e+03,  3.261500e+03,  3.056500e+03,\n",
       "        4.269500e+03,  5.630000e+02, -3.010000e+03, -1.401500e+03,\n",
       "        4.440500e+03,  5.239500e+03,  3.585000e+03,  3.589500e+03,\n",
       "       -2.776500e+03, -6.193500e+03, -1.345000e+03,  4.658500e+03,\n",
       "        6.069500e+03,  2.902500e+03,  4.386000e+03,  4.160000e+02,\n",
       "       -5.211000e+03,  4.230000e+02,  3.898500e+03,  3.387500e+03,\n",
       "        5.042500e+03,  1.290500e+03, -6.618000e+03, -4.324000e+03,\n",
       "       -1.281500e+03,  1.501000e+03,  4.925500e+03,  2.364500e+03,\n",
       "        1.893000e+03, -1.615000e+03, -9.654000e+03, -3.797500e+03,\n",
       "        4.449500e+03,  3.800500e+03,  2.916000e+03,  1.153000e+03,\n",
       "       -6.060000e+03, -9.147000e+03, -4.672000e+03,  1.377500e+03,\n",
       "        3.119500e+03,  1.982500e+03,  3.717000e+03, -1.137000e+03,\n",
       "       -6.338500e+03, -4.033500e+03,  2.438500e+03,  3.552500e+03,\n",
       "        3.520000e+02,  2.599500e+03, -1.659000e+03, -8.670000e+03,\n",
       "       -6.610000e+03,  5.480000e+02,  2.745000e+03,  1.398000e+03,\n",
       "        3.008000e+03, -5.015000e+02, -8.348000e+03, -2.311000e+03,\n",
       "        3.425000e+03,  2.457500e+03,  3.214500e+03,  6.225000e+02,\n",
       "       -5.015000e+02, -6.567500e+03, -4.061000e+03,  5.310000e+03,\n",
       "       -2.021500e+03,  1.174000e+03,  9.828500e+03, -2.072000e+03,\n",
       "       -1.105150e+04, -8.543500e+03, -5.280000e+02,  4.083000e+03,\n",
       "        4.559500e+03,  7.117500e+03,  5.215000e+02, -7.112000e+03,\n",
       "       -1.108500e+03,  2.937000e+03,  1.190500e+03,  3.046500e+03,\n",
       "        4.809500e+03, -1.749500e+03, -6.265500e+03,  6.570500e+03,\n",
       "        5.175000e+02, -6.701500e+03,  3.906500e+03,  6.516000e+03,\n",
       "       -1.254500e+03, -8.641500e+03, -2.667500e+03,  3.199500e+03,\n",
       "        2.349000e+03,  1.360500e+03,  5.761000e+03,  6.805000e+02,\n",
       "       -9.258500e+03,  7.317000e+03,  3.899500e+03, -4.698000e+03,\n",
       "        6.760000e+03,  2.972500e+03, -2.367000e+03, -7.089500e+03,\n",
       "       -1.816000e+03,  4.805000e+03,  5.918500e+03,  5.480000e+03,\n",
       "        5.305500e+03, -6.296000e+03, -1.129100e+04,  6.339500e+03,\n",
       "        6.356000e+03, -6.015000e+02,  7.268000e+03,  1.053000e+04,\n",
       "        1.724500e+03, -1.279100e+04, -1.970500e+03,  7.336000e+03,\n",
       "        3.622000e+03,  8.141000e+03,  8.993000e+03, -3.231000e+03,\n",
       "       -1.283650e+04,  4.899500e+03,  9.110500e+03,  7.036000e+03,\n",
       "        1.446650e+04,  1.237250e+04,  2.291000e+03, -1.470500e+04,\n",
       "        2.259000e+03,  1.816850e+04,  6.214500e+03,  1.195050e+04,\n",
       "        1.930900e+04, -2.309000e+03, -2.315500e+04,  3.765000e+03,\n",
       "        1.322250e+04,  2.858500e+03,  1.293850e+04,  1.328950e+04,\n",
       "       -7.787500e+03, -2.903250e+04,  3.845000e+03,  1.853200e+04,\n",
       "        4.835000e+02, -3.743200e+04,  1.262450e+04,  2.420700e+04,\n",
       "       -3.485850e+04,  8.125000e+03,  2.405300e+04,  1.675700e+04,\n",
       "        1.675500e+04,  1.509800e+04, -6.015000e+03, -2.972350e+04,\n",
       "       -5.925000e+02,  2.389650e+04,  7.596500e+03,  2.755500e+03,\n",
       "        3.039850e+04, -8.846500e+03, -4.814700e+04, -3.323500e+03,\n",
       "        9.467000e+03,  2.197100e+04,  1.727800e+04,  3.181500e+03,\n",
       "       -2.190200e+04, -3.563950e+04,  3.806500e+03,  1.086300e+04,\n",
       "        1.312250e+04, -4.063000e+03, -6.341600e+04,  1.167500e+04,\n",
       "        2.557900e+04, -1.392550e+04,  2.447050e+04,  1.996950e+04,\n",
       "        1.499700e+04, -4.085050e+04,  3.029300e+04,  2.726600e+04,\n",
       "       -1.989000e+04,  1.661800e+04,  2.068000e+03,  2.265900e+04,\n",
       "        2.240550e+04, -1.420750e+04, -4.624100e+04, -1.280150e+04,\n",
       "        1.084100e+04,  1.504500e+03,  4.772500e+03,  5.264000e+03,\n",
       "       -1.866450e+04, -3.487950e+04, -3.053000e+04,  8.425000e+03,\n",
       "        2.217750e+04,  1.769000e+03,  3.038500e+03, -1.128250e+04,\n",
       "       -3.094450e+04, -5.670500e+03,  1.048100e+04, -4.030000e+02,\n",
       "        7.768500e+03,  4.422500e+03, -1.618750e+04, -2.541000e+04,\n",
       "        4.027000e+03,  7.305000e+02, -1.083550e+04,  5.190000e+03,\n",
       "        4.659000e+03, -1.034450e+04, -2.111000e+04, -5.982500e+03,\n",
       "        4.554500e+03,  9.965000e+02,  4.625000e+03,  2.326000e+03,\n",
       "       -1.049400e+04, -1.792350e+04, -1.469000e+04,  3.800000e+02,\n",
       "        7.444500e+03,  3.625500e+03,  3.925500e+03, -1.035500e+03,\n",
       "       -1.141600e+04, -5.127000e+03,  8.366500e+03,  7.364000e+03,\n",
       "        2.984000e+03,  2.062000e+03, -7.603500e+03, -1.370650e+04,\n",
       "       -2.989000e+03,  3.369500e+03,  4.958000e+03,  4.819000e+03,\n",
       "       -4.585000e+02, -5.348500e+03, -1.281550e+04,  1.896400e+04,\n",
       "        7.917500e+03, -1.815900e+04,  3.244000e+03,  2.985500e+03,\n",
       "       -6.415000e+03, -1.308850e+04,  3.803500e+03,  8.271000e+03,\n",
       "        8.835000e+02,  2.969500e+03,  8.460000e+02, -3.022500e+03,\n",
       "       -1.321500e+04,  1.455000e+02,  1.127650e+04,  1.259350e+04,\n",
       "        6.185000e+03, -2.702000e+03, -4.208000e+03, -1.499200e+04,\n",
       "        5.019500e+03,  8.859500e+03, -1.401500e+03,  7.479500e+03,\n",
       "        3.265000e+02, -6.528500e+03, -1.588300e+04,  6.229000e+03,\n",
       "        1.257450e+04, -1.752000e+03,  9.243000e+03,  4.246000e+03,\n",
       "       -7.850000e+03, -1.680250e+04,  3.587000e+03,  1.467200e+04,\n",
       "        1.909000e+03, -1.813500e+03,  1.302000e+03, -9.910000e+03,\n",
       "       -1.847750e+04,  8.193000e+03,  9.812500e+03, -3.882500e+03,\n",
       "        2.608500e+03,  6.445000e+02, -7.886500e+03, -1.509650e+04,\n",
       "       -1.566500e+03,  9.143000e+03,  3.741500e+03,  2.852500e+03,\n",
       "        1.849500e+03, -6.411500e+03, -1.444250e+04,  2.592500e+03,\n",
       "        5.661500e+03, -2.612500e+03,  3.369500e+03,  1.387000e+03,\n",
       "       -7.014000e+03, -1.258250e+04,  1.445500e+03,  5.856500e+03,\n",
       "       -5.370000e+02,  2.199000e+03,  2.749000e+03, -4.694500e+03,\n",
       "       -1.213550e+04,  7.850000e+01,  5.576500e+03, -2.065000e+02,\n",
       "        8.775000e+02,  1.085000e+02, -5.651000e+03, -7.430500e+03,\n",
       "        3.656000e+03,  4.344000e+03, -1.121000e+03,  2.454500e+03,\n",
       "       -6.810000e+02, -8.093500e+03, -7.291000e+03, -3.028500e+03,\n",
       "        7.564000e+03,  5.677500e+03, -1.549500e+03, -2.042850e+04,\n",
       "       -4.511500e+03,  1.507600e+04,  4.502000e+03,  4.016000e+03,\n",
       "        6.060000e+02,  8.070000e+02, -1.918500e+03, -3.760000e+03,\n",
       "       -5.020000e+03,  3.420000e+03,  2.542500e+03, -3.540000e+02,\n",
       "        1.575000e+02, -8.555000e+02, -2.303500e+03, -4.318500e+03,\n",
       "        4.132000e+03,  4.349000e+03, -9.065000e+02,  9.670000e+02,\n",
       "        4.660000e+02, -3.952000e+03, -5.438000e+03,  4.378500e+03,\n",
       "        5.821000e+03,  2.145000e+02,  2.461500e+04,  2.229500e+03,\n",
       "       -3.048300e+04, -8.757000e+03,  2.990000e+02,  1.207750e+04,\n",
       "        1.281400e+04,  1.107800e+04,  2.558000e+03, -2.073750e+04,\n",
       "       -1.489600e+04,  1.381250e+04,  1.871950e+04,  1.336000e+03,\n",
       "       -3.482000e+03,  7.084500e+03, -1.178650e+04, -2.159850e+04,\n",
       "        2.336850e+04,  2.654200e+04,  3.045000e+02,  1.694500e+03,\n",
       "        1.163550e+04, -2.195500e+04, -3.461450e+04,  3.574800e+04,\n",
       "        4.649250e+04, -4.062500e+03, -4.262000e+03,  1.885650e+04,\n",
       "       -3.429800e+04, -4.989000e+04,  5.323600e+04,  6.370850e+04,\n",
       "       -1.191300e+04, -1.166950e+04,  2.800350e+04, -4.242850e+04,\n",
       "       -6.614150e+04,  6.828800e+04,  6.301150e+04, -1.155700e+04,\n",
       "       -1.169100e+04,  1.590750e+04, -4.444600e+04, -7.178700e+04,\n",
       "        1.048380e+05,  5.023950e+04, -4.744100e+04,  7.727500e+03,\n",
       "        1.749750e+04, -4.018050e+04, -7.951650e+04,  9.337800e+04,\n",
       "        5.481200e+04, -4.760550e+04,  1.878200e+04,  1.248750e+04,\n",
       "       -5.125100e+04, -7.687650e+04,  9.757200e+04,  5.904600e+04,\n",
       "       -3.470400e+04,  7.723000e+03, -9.760000e+03, -5.482100e+04,\n",
       "       -7.352900e+04,  5.461000e+03,  1.283605e+05,  5.360650e+04,\n",
       "       -6.533900e+04, -3.881000e+03,  5.967000e+03])"
      ]
     },
     "execution_count": 288,
     "metadata": {},
     "output_type": "execute_result"
    }
   ],
   "source": [
    "g= np.gradient(c)\n",
    "g"
   ]
  },
  {
   "cell_type": "code",
   "execution_count": 255,
   "metadata": {},
   "outputs": [
    {
     "data": {
      "text/plain": [
       "(599, 0)"
      ]
     },
     "execution_count": 255,
     "metadata": {},
     "output_type": "execute_result"
    }
   ],
   "source": [
    "len(c),c[1]"
   ]
  },
  {
   "cell_type": "code",
   "execution_count": 291,
   "metadata": {},
   "outputs": [
    {
     "data": {
      "image/png": "[encoded data removed]",
      "text/plain": [
       "<Figure size 600x400 with 1 Axes>"
      ]
     },
     "metadata": {
      "needs_background": "light"
     },
     "output_type": "display_data"
    }
   ],
   "source": [
    "plt.figure(1,dpi=100)\n",
    "plt.plot(c)\n",
    "plt.plot(g, color ='red')\n",
    "#plt.plot(diff, color ='green')\n",
    "plt.grid()"
   ]
  },
  {
   "cell_type": "code",
   "execution_count": 272,
   "metadata": {},
   "outputs": [
    {
     "data": {
      "text/plain": [
       "0                                                             1\n",
       "1                                                             0\n",
       "2                                                             0\n",
       "3                                                             1\n",
       "4                                                             1\n",
       "                                    ...                        \n",
       "595                                                      301138\n",
       "596                                                      184189\n",
       "597                                                      170460\n",
       "598                                                      176427\n",
       "difference    [1, 0, -1, 0, -1, 2, 0, 0, -1, 0, 0, -2, 3, 0,...\n",
       "Name: cases, Length: 600, dtype: object"
      ]
     },
     "execution_count": 272,
     "metadata": {},
     "output_type": "execute_result"
    }
   ],
   "source": [
    "c"
   ]
  },
  {
   "cell_type": "code",
   "execution_count": 282,
   "metadata": {},
   "outputs": [
    {
     "name": "stderr",
     "output_type": "stream",
     "text": [
      "<ipython-input-282-6aaa26b85c09>:1: RuntimeWarning: invalid value encountered in long_scalars\n",
      "  diff = [c[i] - c[i+1]/c[i] for i in range(len(c)-1)]\n",
      "<ipython-input-282-6aaa26b85c09>:1: RuntimeWarning: divide by zero encountered in long_scalars\n",
      "  diff = [c[i] - c[i+1]/c[i] for i in range(len(c)-1)]\n"
     ]
    }
   ],
   "source": [
    "diff = [c[i] - c[i+1]/c[i] for i in range(len(c)-1)]"
   ]
  },
  {
   "cell_type": "code",
   "execution_count": 276,
   "metadata": {},
   "outputs": [
    {
     "data": {
      "text/plain": [
       "[1,\n",
       " 0,\n",
       " -1,\n",
       " 0,\n",
       " -1,\n",
       " 2,\n",
       " 0,\n",
       " 0,\n",
       " -1,\n",
       " 0,\n",
       " 0,\n",
       " -2,\n",
       " 3,\n",
       " 0,\n",
       " -1,\n",
       " 1,\n",
       " 0,\n",
       " 0,\n",
       " 0,\n",
       " -1,\n",
       " 1,\n",
       " -1,\n",
       " 0,\n",
       " 1,\n",
       " 0,\n",
       " 0,\n",
       " -10,\n",
       " 10,\n",
       " 0,\n",
       " -2,\n",
       " -1,\n",
       " 3,\n",
       " 0,\n",
       " -13,\n",
       " 11,\n",
       " -13,\n",
       " 15,\n",
       " -5,\n",
       " 0,\n",
       " -13,\n",
       " 2,\n",
       " -5,\n",
       " -15,\n",
       " -31,\n",
       " -16,\n",
       " -34,\n",
       " -2,\n",
       " -82,\n",
       " -69,\n",
       " 25,\n",
       " -160,\n",
       " -151,\n",
       " -118,\n",
       " -28,\n",
       " -205,\n",
       " -492,\n",
       " -1045,\n",
       " -1599,\n",
       " -1576,\n",
       " -897,\n",
       " -2029,\n",
       " -1887,\n",
       " -1,\n",
       " -4201,\n",
       " -2364,\n",
       " -332,\n",
       " -3736,\n",
       " 2546,\n",
       " -2949,\n",
       " -3037,\n",
       " -2424,\n",
       " -2787,\n",
       " -2601,\n",
       " -2781,\n",
       " 9483,\n",
       " -5300,\n",
       " 579,\n",
       " -1483,\n",
       " -2879,\n",
       " 1226,\n",
       " 1753,\n",
       " 4577,\n",
       " 1374,\n",
       " -922,\n",
       " -3342,\n",
       " -1580,\n",
       " 104,\n",
       " 3111,\n",
       " 3064,\n",
       " -2061,\n",
       " 1881,\n",
       " -3317,\n",
       " -4945,\n",
       " -2965,\n",
       " 2333,\n",
       " 7673,\n",
       " 3538,\n",
       " -1454,\n",
       " -1904,\n",
       " -3802,\n",
       " -3613,\n",
       " 4496,\n",
       " 3334,\n",
       " 4178,\n",
       " -1747,\n",
       " -797,\n",
       " -3972,\n",
       " 830,\n",
       " 2780,\n",
       " 4551,\n",
       " 2696,\n",
       " -4679,\n",
       " 1155,\n",
       " -5817,\n",
       " 725,\n",
       " 2578,\n",
       " 4645,\n",
       " -2813,\n",
       " 850,\n",
       " -2093,\n",
       " -2663,\n",
       " 1934,\n",
       " 1531,\n",
       " 2237,\n",
       " 931,\n",
       " 204,\n",
       " 152,\n",
       " -3768,\n",
       " -2036,\n",
       " 1151,\n",
       " 2763,\n",
       " -1263,\n",
       " 1106,\n",
       " 804,\n",
       " -1629,\n",
       " -7093,\n",
       " 6193,\n",
       " 3900,\n",
       " 409,\n",
       " -598,\n",
       " -4047,\n",
       " -350,\n",
       " -2291,\n",
       " 159,\n",
       " 6204,\n",
       " -987,\n",
       " -4768,\n",
       " -770,\n",
       " -2404,\n",
       " -2777,\n",
       " -1189,\n",
       " 5646,\n",
       " -4087,\n",
       " -4594,\n",
       " -1929,\n",
       " -4184,\n",
       " -4355,\n",
       " 3229,\n",
       " 2791,\n",
       " 12,\n",
       " -8893,\n",
       " -1586,\n",
       " -5584,\n",
       " -1595,\n",
       " 7148,\n",
       " 5239,\n",
       " -2549,\n",
       " -6768,\n",
       " -5371,\n",
       " -434,\n",
       " -8338,\n",
       " 7506,\n",
       " 2916,\n",
       " -3762,\n",
       " -4035,\n",
       " -2740,\n",
       " -7345,\n",
       " 4764,\n",
       " 8472,\n",
       " 176,\n",
       " 2387,\n",
       " -5389,\n",
       " -4462,\n",
       " -267,\n",
       " -3519,\n",
       " 6749,\n",
       " 12559,\n",
       " -4964,\n",
       " -3935,\n",
       " -3666,\n",
       " -2166,\n",
       " -140,\n",
       " 12260,\n",
       " 6034,\n",
       " 3310,\n",
       " -6065,\n",
       " -174,\n",
       " -3791,\n",
       " -3643,\n",
       " 5917,\n",
       " 6760,\n",
       " 1307,\n",
       " -6184,\n",
       " -921,\n",
       " 217,\n",
       " -5416,\n",
       " 8734,\n",
       " 8606,\n",
       " 4614,\n",
       " -5710,\n",
       " 220,\n",
       " -3016,\n",
       " -3000,\n",
       " 4003,\n",
       " 12693,\n",
       " -8071,\n",
       " 1221,\n",
       " -6136,\n",
       " -293,\n",
       " -952,\n",
       " 1955,\n",
       " 11180,\n",
       " -3058,\n",
       " -7562,\n",
       " 11605,\n",
       " -13953,\n",
       " -5704,\n",
       " 9848,\n",
       " 12255,\n",
       " 4832,\n",
       " -3776,\n",
       " -4390,\n",
       " -4729,\n",
       " -9506,\n",
       " 8463,\n",
       " 5761,\n",
       " -3544,\n",
       " -2330,\n",
       " -51,\n",
       " -6042,\n",
       " -3577,\n",
       " 7076,\n",
       " 5455,\n",
       " -18596,\n",
       " 17561,\n",
       " -4158,\n",
       " -3655,\n",
       " -9377,\n",
       " 11886,\n",
       " 5397,\n",
       " -62,\n",
       " -6337,\n",
       " 1639,\n",
       " -4360,\n",
       " -7162,\n",
       " 5801,\n",
       " 12716,\n",
       " -27350,\n",
       " 19551,\n",
       " -10155,\n",
       " -3365,\n",
       " -2580,\n",
       " 7314,\n",
       " 6865,\n",
       " -3233,\n",
       " -6377,\n",
       " -5460,\n",
       " -5500,\n",
       " -5111,\n",
       " 17703,\n",
       " 4879,\n",
       " -17558,\n",
       " 4846,\n",
       " -3643,\n",
       " -10893,\n",
       " -10167,\n",
       " 6718,\n",
       " 18864,\n",
       " -14923,\n",
       " 251,\n",
       " -7495,\n",
       " -8787,\n",
       " -9199,\n",
       " 15661,\n",
       " 10012,\n",
       " -19811,\n",
       " 1590,\n",
       " -15662,\n",
       " -13271,\n",
       " -11474,\n",
       " 6892,\n",
       " 22518,\n",
       " -27036,\n",
       " -9301,\n",
       " -3128,\n",
       " -20773,\n",
       " -17845,\n",
       " 22463,\n",
       " 23847,\n",
       " -31377,\n",
       " 4932,\n",
       " -10649,\n",
       " -15228,\n",
       " -11351,\n",
       " 26926,\n",
       " 31139,\n",
       " -38829,\n",
       " 1765,\n",
       " -2732,\n",
       " 77596,\n",
       " -102845,\n",
       " 54431,\n",
       " 15286,\n",
       " -31536,\n",
       " -16570,\n",
       " -16944,\n",
       " -16566,\n",
       " -13630,\n",
       " 25660,\n",
       " 33787,\n",
       " -32602,\n",
       " -15191,\n",
       " -2,\n",
       " -5509,\n",
       " -55288,\n",
       " 72981,\n",
       " 23313,\n",
       " -16666,\n",
       " -2268,\n",
       " -41674,\n",
       " 7118,\n",
       " -13481,\n",
       " 57285,\n",
       " 13994,\n",
       " -21607,\n",
       " -119,\n",
       " -26126,\n",
       " 34252,\n",
       " 92580,\n",
       " -115930,\n",
       " 64772,\n",
       " -36921,\n",
       " -12020,\n",
       " -27919,\n",
       " -2075,\n",
       " 83776,\n",
       " -144362,\n",
       " 89830,\n",
       " -50050,\n",
       " 16814,\n",
       " -20950,\n",
       " -24368,\n",
       " -20443,\n",
       " 48858,\n",
       " 43624,\n",
       " -18021,\n",
       " -3661,\n",
       " 652,\n",
       " -10197,\n",
       " -331,\n",
       " 37660,\n",
       " 32099,\n",
       " 28961,\n",
       " -45811,\n",
       " 1456,\n",
       " -4994,\n",
       " -1083,\n",
       " 23648,\n",
       " 38241,\n",
       " -26900,\n",
       " 5938,\n",
       " -5132,\n",
       " -10405,\n",
       " 1560,\n",
       " 30815,\n",
       " 20005,\n",
       " -28059,\n",
       " 26598,\n",
       " -4927,\n",
       " -5453,\n",
       " -3865,\n",
       " 24554,\n",
       " 17666,\n",
       " -5701,\n",
       " -3408,\n",
       " 1415,\n",
       " -10665,\n",
       " 6013,\n",
       " 14975,\n",
       " 20872,\n",
       " 8508,\n",
       " -9268,\n",
       " -5621,\n",
       " -1630,\n",
       " -6221,\n",
       " 8292,\n",
       " 14540,\n",
       " -4286,\n",
       " -12447,\n",
       " -2281,\n",
       " -3687,\n",
       " -437,\n",
       " 15644,\n",
       " 11769,\n",
       " -5791,\n",
       " -948,\n",
       " -8968,\n",
       " -670,\n",
       " 1587,\n",
       " 9110,\n",
       " 16521,\n",
       " -54449,\n",
       " 38614,\n",
       " -2296,\n",
       " -4192,\n",
       " -1779,\n",
       " 14609,\n",
       " 11568,\n",
       " -19175,\n",
       " 2633,\n",
       " -4400,\n",
       " -1539,\n",
       " -153,\n",
       " 6198,\n",
       " 20232,\n",
       " -20523,\n",
       " -2030,\n",
       " -23157,\n",
       " 10787,\n",
       " -5383,\n",
       " 13799,\n",
       " 16185,\n",
       " -26224,\n",
       " 8505,\n",
       " -5702,\n",
       " -9257,\n",
       " 8604,\n",
       " 4453,\n",
       " 27313,\n",
       " -39771,\n",
       " 14622,\n",
       " -11118,\n",
       " -7368,\n",
       " -1124,\n",
       " 16824,\n",
       " 16781,\n",
       " -23955,\n",
       " -5389,\n",
       " 1571,\n",
       " 2056,\n",
       " -4660,\n",
       " 24480,\n",
       " 12475,\n",
       " -28861,\n",
       " 9236,\n",
       " -1471,\n",
       " -3746,\n",
       " 2457,\n",
       " 13316,\n",
       " 16877,\n",
       " -13744,\n",
       " -4542,\n",
       " -2941,\n",
       " -2764,\n",
       " -935,\n",
       " 13758,\n",
       " 15127,\n",
       " -20312,\n",
       " 8989,\n",
       " -3764,\n",
       " -2975,\n",
       " 201,\n",
       " 13827,\n",
       " 11338,\n",
       " -14229,\n",
       " 2516,\n",
       " -1442,\n",
       " -2956,\n",
       " -2542,\n",
       " 11931,\n",
       " 12340,\n",
       " -12497,\n",
       " 1344,\n",
       " -931,\n",
       " -824,\n",
       " 607,\n",
       " 10695,\n",
       " 4166,\n",
       " -11478,\n",
       " 2790,\n",
       " -548,\n",
       " -4361,\n",
       " 5723,\n",
       " 10464,\n",
       " 4118,\n",
       " 1939,\n",
       " -17067,\n",
       " 5712,\n",
       " -2613,\n",
       " 43470,\n",
       " -34447,\n",
       " 4295,\n",
       " -13299,\n",
       " 5267,\n",
       " -6479,\n",
       " 4865,\n",
       " -1028,\n",
       " 8548,\n",
       " 1492,\n",
       " -8332,\n",
       " 3247,\n",
       " -2539,\n",
       " 2224,\n",
       " -513,\n",
       " 5120,\n",
       " 3517,\n",
       " -11781,\n",
       " 3083,\n",
       " -1270,\n",
       " -664,\n",
       " -268,\n",
       " 8172,\n",
       " 2704,\n",
       " -11461,\n",
       " -181,\n",
       " -248,\n",
       " -48982,\n",
       " 44523,\n",
       " 16443,\n",
       " 1071,\n",
       " -1669,\n",
       " -22486,\n",
       " -3142,\n",
       " -19014,\n",
       " 13898,\n",
       " 27577,\n",
       " 2215,\n",
       " -29840,\n",
       " -7599,\n",
       " 4927,\n",
       " 2037,\n",
       " -16206,\n",
       " 39779,\n",
       " 3418,\n",
       " -50155,\n",
       " -2929,\n",
       " 2320,\n",
       " -5709,\n",
       " -17562,\n",
       " 61472,\n",
       " 7757,\n",
       " -79253,\n",
       " -13732,\n",
       " 21857,\n",
       " -13333,\n",
       " -24380,\n",
       " 92976,\n",
       " 6804,\n",
       " -113276,\n",
       " -14141,\n",
       " 37967,\n",
       " -14628,\n",
       " -41379,\n",
       " 126236,\n",
       " 6047,\n",
       " -142623,\n",
       " 16600,\n",
       " 6514,\n",
       " 16868,\n",
       " -48683,\n",
       " 137575,\n",
       " 5999,\n",
       " -215675,\n",
       " 115196,\n",
       " -20314,\n",
       " 4859,\n",
       " -39854,\n",
       " 120215,\n",
       " 38818,\n",
       " -225574,\n",
       " 115950,\n",
       " -20739,\n",
       " -16825,\n",
       " -8150,\n",
       " 110652,\n",
       " 43101,\n",
       " -238245,\n",
       " 120153,\n",
       " -50745,\n",
       " 35299,\n",
       " -15779,\n",
       " 125421,\n",
       " 21637,\n",
       " -32559,\n",
       " -224162,\n",
       " 116949,\n",
       " 13729,\n",
       " -5967]"
      ]
     },
     "execution_count": 276,
     "metadata": {},
     "output_type": "execute_result"
    }
   ],
   "source": [
    "diff"
   ]
  },
  {
   "cell_type": "code",
   "execution_count": null,
   "metadata": {},
   "outputs": [],
   "source": []
  },
  {
   "cell_type": "code",
   "execution_count": 299,
   "metadata": {},
   "outputs": [
    {
     "data": {
      "text/html": [
       "<div>\n",
       "<style scoped>\n",
       "    .dataframe tbody tr th:only-of-type {\n",
       "        vertical-align: middle;\n",
       "    }\n",
       "\n",
       "    .dataframe tbody tr th {\n",
       "        vertical-align: top;\n",
       "    }\n",
       "\n",
       "    .dataframe thead th {\n",
       "        text-align: right;\n",
       "    }\n",
       "</style>\n",
       "<table border=\"1\" class=\"dataframe\">\n",
       "  <thead>\n",
       "    <tr style=\"text-align: right;\">\n",
       "      <th></th>\n",
       "      <th>date</th>\n",
       "      <th>geoid</th>\n",
       "      <th>cases</th>\n",
       "      <th>cases_avg</th>\n",
       "      <th>cases_avg_per_100k</th>\n",
       "      <th>deaths</th>\n",
       "      <th>deaths_avg</th>\n",
       "      <th>deaths_avg_per_100k</th>\n",
       "    </tr>\n",
       "  </thead>\n",
       "  <tbody>\n",
       "    <tr>\n",
       "      <th>0</th>\n",
       "      <td>2020-01-21</td>\n",
       "      <td>USA</td>\n",
       "      <td>1</td>\n",
       "      <td>0.14</td>\n",
       "      <td>0.0</td>\n",
       "      <td>0</td>\n",
       "      <td>0.0</td>\n",
       "      <td>0.0</td>\n",
       "    </tr>\n",
       "    <tr>\n",
       "      <th>1</th>\n",
       "      <td>2020-01-22</td>\n",
       "      <td>USA</td>\n",
       "      <td>0</td>\n",
       "      <td>0.14</td>\n",
       "      <td>0.0</td>\n",
       "      <td>0</td>\n",
       "      <td>0.0</td>\n",
       "      <td>0.0</td>\n",
       "    </tr>\n",
       "  </tbody>\n",
       "</table>\n",
       "</div>"
      ],
      "text/plain": [
       "         date geoid  cases  cases_avg  cases_avg_per_100k  deaths  deaths_avg  \\\n",
       "0  2020-01-21   USA      1       0.14                 0.0       0         0.0   \n",
       "1  2020-01-22   USA      0       0.14                 0.0       0         0.0   \n",
       "\n",
       "   deaths_avg_per_100k  \n",
       "0                  0.0  \n",
       "1                  0.0  "
      ]
     },
     "execution_count": 299,
     "metadata": {},
     "output_type": "execute_result"
    }
   ],
   "source": [
    "covid.head(2)"
   ]
  },
  {
   "cell_type": "code",
   "execution_count": 311,
   "metadata": {},
   "outputs": [
    {
     "data": {
      "text/plain": [
       "598    2021-09-10\n",
       "Name: date, dtype: object"
      ]
     },
     "execution_count": 311,
     "metadata": {},
     "output_type": "execute_result"
    }
   ],
   "source": [
    "covid['date'][-1:]"
   ]
  },
  {
   "cell_type": "code",
   "execution_count": 328,
   "metadata": {},
   "outputs": [],
   "source": [
    "date_ticks=np.arange(0,len(covid))"
   ]
  },
  {
   "cell_type": "code",
   "execution_count": 370,
   "metadata": {},
   "outputs": [
    {
     "data": {
      "text/plain": [
       "<function matplotlib.pyplot.grid(b=None, which='major', axis='both', **kwargs)>"
      ]
     },
     "execution_count": 370,
     "metadata": {},
     "output_type": "execute_result"
    },
    {
     "data": {
      "image/png": "[encoded data removed]",
      "text/plain": [
       "<Figure size 600x400 with 1 Axes>"
      ]
     },
     "metadata": {
      "needs_background": "light"
     },
     "output_type": "display_data"
    }
   ],
   "source": [
    "plt.figure(1,dpi=100)\n",
    "#plt.tick_params(axis='both', labelsize=0, length = 0)\n",
    "#plt.xticks([]) \n",
    "\n",
    "plt.plot(date_ticks,covid['cases'])\n",
    "plt.grid"
   ]
  },
  {
   "cell_type": "code",
   "execution_count": 354,
   "metadata": {},
   "outputs": [],
   "source": [
    "from scipy import integrate"
   ]
  },
  {
   "cell_type": "code",
   "execution_count": 355,
   "metadata": {},
   "outputs": [],
   "source": [
    "from scipy import integrate\n",
    "import matplotlib.pyplot as plt"
   ]
  },
  {
   "cell_type": "code",
   "execution_count": 384,
   "metadata": {},
   "outputs": [
    {
     "data": {
      "image/png": "[encoded data removed]",
      "text/plain": [
       "<Figure size 600x400 with 1 Axes>"
      ]
     },
     "metadata": {
      "needs_background": "light"
     },
     "output_type": "display_data"
    }
   ],
   "source": [
    "plt.figure(1,dpi=100)\n",
    "#plt.tick_params(axis='both', labelsize=0, length = 0)\n",
    "#plt.xticks([]) \n",
    "plt.ticklabel_format(style='plain')  # will display large numbers\n",
    "\n",
    "plt.plot(c.cumsum(),color='green')\n",
    "plt.grid()"
   ]
  },
  {
   "cell_type": "code",
   "execution_count": 372,
   "metadata": {},
   "outputs": [
    {
     "ename": "AttributeError",
     "evalue": "module 'scipy.integrate' has no attribute 'cumulative_trapezoid'",
     "output_type": "error",
     "traceback": [
      "\u001b[0;31m---------------------------------------------------------------------------\u001b[0m",
      "\u001b[0;31mAttributeError\u001b[0m                            Traceback (most recent call last)",
      "\u001b[0;32m<ipython-input-372-dfff40b70d48>\u001b[0m in \u001b[0;36m<module>\u001b[0;34m\u001b[0m\n\u001b[0;32m----> 1\u001b[0;31m \u001b[0mintegrate\u001b[0m\u001b[0;34m.\u001b[0m\u001b[0mcumulative_trapezoid\u001b[0m\u001b[0;34m(\u001b[0m\u001b[0;34m)\u001b[0m\u001b[0;34m\u001b[0m\u001b[0;34m\u001b[0m\u001b[0m\n\u001b[0m\u001b[1;32m      2\u001b[0m \u001b[0;31m#been depricated or something\u001b[0m\u001b[0;34m\u001b[0m\u001b[0;34m\u001b[0m\u001b[0;34m\u001b[0m\u001b[0m\n",
      "\u001b[0;31mAttributeError\u001b[0m: module 'scipy.integrate' has no attribute 'cumulative_trapezoid'"
     ]
    }
   ],
   "source": [
    "integrate.cumulative_trapezoid()\n",
    "#been depricated or something"
   ]
  },
  {
   "cell_type": "code",
   "execution_count": 373,
   "metadata": {},
   "outputs": [],
   "source": [
    "#this is also not Cumulative denisty"
   ]
  },
  {
   "cell_type": "code",
   "execution_count": 382,
   "metadata": {},
   "outputs": [
    {
     "data": {
      "text/plain": [
       "[<matplotlib.lines.Line2D at 0x7fefb93102b0>]"
      ]
     },
     "execution_count": 382,
     "metadata": {},
     "output_type": "execute_result"
    },
    {
     "data": {
      "image/png": "[encoded data removed]",
      "text/plain": [
       "<Figure size 432x288 with 1 Axes>"
      ]
     },
     "metadata": {
      "needs_background": "light"
     },
     "output_type": "display_data"
    }
   ],
   "source": [
    "#plt.ticklabel_format(useOffset=False)\n",
    "plt.ticklabel_format(style='plain')  \n",
    "plt.plot(integrate.cumtrapz(date_ticks,covid['cases'], initial=0))"
   ]
  },
  {
   "cell_type": "code",
   "execution_count": 364,
   "metadata": {},
   "outputs": [
    {
     "data": {
      "text/plain": [
       "0           1\n",
       "1           0\n",
       "2           0\n",
       "3           1\n",
       "4           1\n",
       "        ...  \n",
       "594     76976\n",
       "595    301138\n",
       "596    184189\n",
       "597    170460\n",
       "598    176427\n",
       "Name: cases, Length: 599, dtype: int64"
      ]
     },
     "execution_count": 364,
     "metadata": {},
     "output_type": "execute_result"
    }
   ],
   "source": [
    "c"
   ]
  },
  {
   "cell_type": "code",
   "execution_count": 374,
   "metadata": {},
   "outputs": [],
   "source": [
    "#use Numpy CumSum"
   ]
  },
  {
   "cell_type": "code",
   "execution_count": 385,
   "metadata": {},
   "outputs": [
    {
     "data": {
      "image/png": "[encoded data removed]",
      "text/plain": [
       "<Figure size 432x288 with 1 Axes>"
      ]
     },
     "metadata": {
      "needs_background": "light"
     },
     "output_type": "display_data"
    }
   ],
   "source": [
    "plt.ticklabel_format(style='plain')\n",
    "plt.plot(c.cumsum())\n",
    "plt.grid()"
   ]
  },
  {
   "cell_type": "code",
   "execution_count": null,
   "metadata": {},
   "outputs": [],
   "source": []
  }
 ],
 "metadata": {
  "kernelspec": {
   "display_name": "Python 3",
   "language": "python",
   "name": "python3"
  },
  "language_info": {
   "codemirror_mode": {
    "name": "ipython",
    "version": 3
   },
   "file_extension": ".py",
   "mimetype": "text/x-python",
   "name": "python",
   "nbconvert_exporter": "python",
   "pygments_lexer": "ipython3",
   "version": "3.8.5"
  }
 },
 "nbformat": 4,
 "nbformat_minor": 4
}
